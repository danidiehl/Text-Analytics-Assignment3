{
 "cells": [
  {
   "cell_type": "markdown",
   "metadata": {},
   "source": [
    "# Assignment 3"
   ]
  },
  {
   "cell_type": "code",
   "execution_count": 1,
   "metadata": {
    "collapsed": true
   },
   "outputs": [],
   "source": [
    "import pandas as pd"
   ]
  },
  {
   "cell_type": "markdown",
   "metadata": {},
   "source": [
    "**Task A. The sentiment scores worksheet in the data file “Assignment 3 Sentiment Scores.csv” (on Canvas) provides sentiment scores (+5 to -5) of forum users on 10 car models. Each row represents a post (not shown) that can mention multiple models. Only positive and negative sentiments are noted. **\n",
    "\n",
    "**From these sentiment scores, create a directed (bi-directional) product comparison network (and use NodeXL or, even better, write your own code in Python using networkx or R). Use the principles laid out in the article “Product comparison networks” to answer this question. Show the labeled network.**\n"
   ]
  },
  {
   "cell_type": "code",
   "execution_count": 2,
   "metadata": {},
   "outputs": [
    {
     "data": {
      "text/html": [
       "<div>\n",
       "<style>\n",
       "    .dataframe thead tr:only-child th {\n",
       "        text-align: right;\n",
       "    }\n",
       "\n",
       "    .dataframe thead th {\n",
       "        text-align: left;\n",
       "    }\n",
       "\n",
       "    .dataframe tbody tr th {\n",
       "        vertical-align: top;\n",
       "    }\n",
       "</style>\n",
       "<table border=\"1\" class=\"dataframe\">\n",
       "  <thead>\n",
       "    <tr style=\"text-align: right;\">\n",
       "      <th></th>\n",
       "      <th>ES</th>\n",
       "      <th>LS</th>\n",
       "      <th>RX</th>\n",
       "      <th>A8</th>\n",
       "      <th>A6</th>\n",
       "      <th>3series</th>\n",
       "      <th>5series</th>\n",
       "      <th>7series</th>\n",
       "      <th>XJ</th>\n",
       "      <th>Sclass</th>\n",
       "    </tr>\n",
       "  </thead>\n",
       "  <tbody>\n",
       "    <tr>\n",
       "      <th>0</th>\n",
       "      <td>NaN</td>\n",
       "      <td>NaN</td>\n",
       "      <td>4.0</td>\n",
       "      <td>3.0</td>\n",
       "      <td>NaN</td>\n",
       "      <td>NaN</td>\n",
       "      <td>NaN</td>\n",
       "      <td>5.0</td>\n",
       "      <td>2.0</td>\n",
       "      <td>1.0</td>\n",
       "    </tr>\n",
       "    <tr>\n",
       "      <th>1</th>\n",
       "      <td>NaN</td>\n",
       "      <td>NaN</td>\n",
       "      <td>3.0</td>\n",
       "      <td>2.0</td>\n",
       "      <td>2.0</td>\n",
       "      <td>2.0</td>\n",
       "      <td>2.0</td>\n",
       "      <td>2.0</td>\n",
       "      <td>NaN</td>\n",
       "      <td>NaN</td>\n",
       "    </tr>\n",
       "    <tr>\n",
       "      <th>2</th>\n",
       "      <td>NaN</td>\n",
       "      <td>4.0</td>\n",
       "      <td>NaN</td>\n",
       "      <td>NaN</td>\n",
       "      <td>NaN</td>\n",
       "      <td>3.0</td>\n",
       "      <td>NaN</td>\n",
       "      <td>3.0</td>\n",
       "      <td>NaN</td>\n",
       "      <td>3.0</td>\n",
       "    </tr>\n",
       "  </tbody>\n",
       "</table>\n",
       "</div>"
      ],
      "text/plain": [
       "   ES   LS   RX   A8   A6  3series  5series  7series   XJ  Sclass\n",
       "0 NaN  NaN  4.0  3.0  NaN      NaN      NaN      5.0  2.0     1.0\n",
       "1 NaN  NaN  3.0  2.0  2.0      2.0      2.0      2.0  NaN     NaN\n",
       "2 NaN  4.0  NaN  NaN  NaN      3.0      NaN      3.0  NaN     3.0"
      ]
     },
     "execution_count": 2,
     "metadata": {},
     "output_type": "execute_result"
    }
   ],
   "source": [
    "sent_data=pd.read_csv('Assignment 3 Sentiment Scores.csv')\n",
    "sent_data[:3]"
   ]
  },
  {
   "cell_type": "code",
   "execution_count": 3,
   "metadata": {
    "collapsed": true
   },
   "outputs": [],
   "source": [
    "import networkx as nx\n",
    "g = nx.DiGraph()\n",
    "#g = nx.MultiGraph()"
   ]
  },
  {
   "cell_type": "code",
   "execution_count": 4,
   "metadata": {},
   "outputs": [],
   "source": [
    "#g.add_nodes_from(sent_data.columns.values)\n",
    "#print g.nodes()"
   ]
  },
  {
   "cell_type": "code",
   "execution_count": 5,
   "metadata": {},
   "outputs": [
    {
     "data": {
      "text/plain": [
       "[('ES', 'LS'), ('ES', 'RX'), ('ES', 'A8')]"
      ]
     },
     "execution_count": 5,
     "metadata": {},
     "output_type": "execute_result"
    }
   ],
   "source": [
    "import itertools\n",
    "\n",
    "cars=list(sent_data.columns.values)\n",
    "list_of_edges=list(itertools.permutations(cars, 2))\n",
    "list_of_edges[:3]"
   ]
  },
  {
   "cell_type": "code",
   "execution_count": 6,
   "metadata": {},
   "outputs": [
    {
     "name": "stdout",
     "output_type": "stream",
     "text": [
      "{('A8', 'LS'): 37, ('5series', '7series'): 3, ('7series', 'A6'): 1, ('3series', 'XJ'): 0, ('5series', 'XJ'): 0, ('A6', 'LS'): 7, ('3series', 'ES'): 1, ('LS', 'RX'): 5, ('ES', '7series'): 5, ('A6', '7series'): 0, ('RX', '5series'): 5, ('RX', 'XJ'): 1, ('7series', '3series'): 2, ('3series', 'RX'): 1, ('XJ', 'ES'): 1, ('LS', 'A8'): 42, ('Sclass', 'XJ'): 7, ('7series', 'A8'): 7, ('5series', 'LS'): 10, ('ES', '5series'): 6, ('3series', 'A8'): 1, ('A8', 'XJ'): 3, ('A6', 'RX'): 0, ('A8', '5series'): 3, ('LS', '7series'): 28, ('5series', 'ES'): 2, ('A8', '3series'): 4, ('5series', 'RX'): 0, ('XJ', 'LS'): 9, ('XJ', '7series'): 6, ('RX', 'ES'): 3, ('Sclass', 'A6'): 3, ('A8', 'A6'): 8, ('ES', '3series'): 8, ('7series', 'LS'): 20, ('A8', '7series'): 11, ('XJ', 'RX'): 0, ('RX', 'A6'): 6, ('A6', 'ES'): 3, ('A8', 'ES'): 5, ('ES', 'LS'): 6, ('Sclass', '3series'): 3, ('A8', 'Sclass'): 18, ('3series', 'A6'): 1, ('Sclass', '5series'): 4, ('7series', 'XJ'): 3, ('RX', '3series'): 5, ('Sclass', 'A8'): 16, ('LS', 'ES'): 10, ('3series', 'Sclass'): 3, ('XJ', '3series'): 1, ('XJ', '5series'): 2, ('5series', '3series'): 0, ('5series', 'A6'): 1, ('RX', 'A8'): 5, ('7series', 'Sclass'): 9, ('A8', 'RX'): 1, ('LS', 'Sclass'): 74, ('7series', '5series'): 2, ('3series', '5series'): 0, ('XJ', 'A8'): 7, ('RX', '7series'): 4, ('ES', 'A8'): 5, ('ES', 'Sclass'): 14, ('LS', '5series'): 10, ('XJ', 'Sclass'): 6, ('A6', '3series'): 2, ('ES', 'RX'): 6, ('Sclass', 'LS'): 62, ('ES', 'XJ'): 1, ('LS', 'XJ'): 8, ('Sclass', 'RX'): 4, ('RX', 'Sclass'): 11, ('7series', 'ES'): 5, ('A6', '5series'): 1, ('A6', 'A8'): 6, ('RX', 'LS'): 7, ('LS', '3series'): 10, ('LS', 'A6'): 9, ('ES', 'A6'): 2, ('Sclass', '7series'): 16, ('A6', 'XJ'): 1, ('5series', 'Sclass'): 1, ('5series', 'A8'): 1, ('3series', 'LS'): 4, ('7series', 'RX'): 1, ('3series', '7series'): 1, ('Sclass', 'ES'): 13, ('A6', 'Sclass'): 1, ('XJ', 'A6'): 0}\n"
     ]
    }
   ],
   "source": [
    "#count the number of times s1 is greater than s2 for each combination\n",
    "denominator_dict={}\n",
    "for comb in list_of_edges:\n",
    "    denominator_dict[comb]=0\n",
    "    for index, row in sent_data.iterrows():        \n",
    "        if row[comb[0]]>row[comb[1]]:\n",
    "            denominator_dict[comb]+=1\n",
    "print denominator_dict"
   ]
  },
  {
   "cell_type": "code",
   "execution_count": 7,
   "metadata": {
    "scrolled": true
   },
   "outputs": [
    {
     "name": "stdout",
     "output_type": "stream",
     "text": [
      "{('A8', 'LS'): -15.0, ('5series', '7series'): 5.0, ('7series', 'A6'): 5.0, ('3series', 'XJ'): -3.0, ('5series', 'XJ'): -4.0, ('A6', 'LS'): -21.0, ('3series', 'ES'): -20.0, ('LS', 'RX'): 9.0, ('ES', '7series'): 4.0, ('A6', '7series'): -5.0, ('RX', '5series'): 18.0, ('RX', 'XJ'): 2.0, ('7series', '3series'): -1.0, ('3series', 'RX'): -16.0, ('XJ', 'ES'): 0.0, ('LS', 'A8'): 15.0, ('Sclass', 'XJ'): 6.0, ('7series', 'A8'): -3.0, ('5series', 'LS'): 4.0, ('ES', '5series'): 14.0, ('3series', 'A8'): -8.0, ('A8', 'XJ'): -9.0, ('A6', 'RX'): -22.0, ('A8', '5series'): 5.0, ('LS', '7series'): 19.0, ('5series', 'ES'): -14.0, ('A8', '3series'): 8.0, ('5series', 'RX'): -18.0, ('XJ', 'LS'): 4.0, ('XJ', '7series'): 8.0, ('RX', 'ES'): -4.0, ('Sclass', 'A6'): 5.0, ('A8', 'A6'): -8.0, ('ES', '3series'): 20.0, ('7series', 'LS'): -19.0, ('A8', '7series'): 3.0, ('XJ', 'RX'): -2.0, ('RX', 'A6'): 22.0, ('A6', 'ES'): -7.0, ('A8', 'ES'): -2.0, ('ES', 'LS'): -13.0, ('Sclass', '3series'): -3.0, ('A8', 'Sclass'): 12.0, ('3series', 'A6'): -1.0, ('Sclass', '5series'): 5.0, ('7series', 'XJ'): -8.0, ('RX', '3series'): 16.0, ('Sclass', 'A8'): -12.0, ('LS', 'ES'): 13.0, ('3series', 'Sclass'): 3.0, ('XJ', '3series'): 3.0, ('XJ', '5series'): 4.0, ('5series', '3series'): 0.0, ('5series', 'A6'): 2.0, ('RX', 'A8'): 10.0, ('7series', 'Sclass'): -11.0, ('A8', 'RX'): -10.0, ('LS', 'Sclass'): 23.0, ('7series', '5series'): -5.0, ('3series', '5series'): 0.0, ('XJ', 'A8'): 9.0, ('RX', '7series'): 14.0, ('ES', 'A8'): 2.0, ('ES', 'Sclass'): 12.0, ('LS', '5series'): -4.0, ('XJ', 'Sclass'): -6.0, ('A6', '3series'): 1.0, ('ES', 'RX'): 4.0, ('Sclass', 'LS'): -23.0, ('ES', 'XJ'): 0.0, ('LS', 'XJ'): -4.0, ('Sclass', 'RX'): -30.0, ('RX', 'Sclass'): 30.0, ('7series', 'ES'): -4.0, ('A6', '5series'): -2.0, ('A6', 'A8'): 8.0, ('RX', 'LS'): -9.0, ('LS', '3series'): 12.0, ('LS', 'A6'): 21.0, ('ES', 'A6'): 7.0, ('Sclass', '7series'): 11.0, ('A6', 'XJ'): 1.0, ('5series', 'Sclass'): -5.0, ('5series', 'A8'): -5.0, ('3series', 'LS'): -12.0, ('7series', 'RX'): -14.0, ('3series', '7series'): 1.0, ('Sclass', 'ES'): -12.0, ('A6', 'Sclass'): -5.0, ('XJ', 'A6'): -1.0}\n"
     ]
    }
   ],
   "source": [
    "numerator_dict={}\n",
    "for comb in list_of_edges:\n",
    "    numerator_dict[comb]=0\n",
    "    for index, row in sent_data.iterrows():\n",
    "        if sent_data[comb[0]].notnull()[index] and sent_data[comb[1]].notnull()[index]:\n",
    "            diff=row[comb[0]]-row[comb[1]]\n",
    "            numerator_dict[comb]+=diff\n",
    "print numerator_dict"
   ]
  },
  {
   "cell_type": "code",
   "execution_count": 8,
   "metadata": {
    "scrolled": true
   },
   "outputs": [
    {
     "data": {
      "text/plain": [
       "[(('A6', '3series'), 0.5),\n",
       " (('RX', '5series'), 3.6000000000000001),\n",
       " (('A6', 'ES'), -2.3333333333333335),\n",
       " (('A8', 'ES'), -0.40000000000000002),\n",
       " (('LS', '5series'), -0.40000000000000002),\n",
       " (('ES', 'LS'), -2.1666666666666665),\n",
       " (('XJ', 'Sclass'), -1.0),\n",
       " (('XJ', '5series'), 2.0),\n",
       " (('Sclass', '3series'), -1.0),\n",
       " (('3series', 'A8'), -8.0),\n",
       " (('7series', 'A8'), -0.42857142857142855),\n",
       " (('Sclass', 'A8'), -0.75),\n",
       " (('A8', 'XJ'), -3.0),\n",
       " (('A8', '5series'), 1.6666666666666667),\n",
       " (('A8', 'LS'), -0.40540540540540543),\n",
       " (('LS', '7series'), 0.6785714285714286),\n",
       " (('7series', 'A6'), 5.0),\n",
       " (('5series', 'LS'), 0.40000000000000002),\n",
       " (('ES', 'RX'), 0.66666666666666663),\n",
       " (('5series', '7series'), 1.6666666666666667),\n",
       " (('7series', 'XJ'), -2.6666666666666665),\n",
       " (('ES', '5series'), 2.3333333333333335),\n",
       " (('LS', 'XJ'), -0.5),\n",
       " (('Sclass', 'RX'), -7.5),\n",
       " (('RX', 'Sclass'), 2.7272727272727271),\n",
       " (('RX', 'XJ'), 2.0),\n",
       " (('Sclass', '5series'), 1.25),\n",
       " (('A8', 'Sclass'), 0.66666666666666663),\n",
       " (('LS', 'ES'), 1.3),\n",
       " (('3series', 'Sclass'), 1.0),\n",
       " (('7series', 'ES'), -0.80000000000000004),\n",
       " (('A8', '3series'), 2.0),\n",
       " (('3series', 'ES'), -20.0),\n",
       " (('7series', '3series'), -0.5),\n",
       " (('LS', 'RX'), 1.8),\n",
       " (('A8', 'A6'), -1.0),\n",
       " (('ES', '7series'), 0.80000000000000004),\n",
       " (('3series', 'A6'), -1.0),\n",
       " (('A6', 'A8'), 1.3333333333333333),\n",
       " (('RX', 'LS'), -1.2857142857142858),\n",
       " (('A6', 'LS'), -3.0),\n",
       " (('XJ', '3series'), 3.0),\n",
       " (('5series', 'A6'), 2.0),\n",
       " (('5series', 'ES'), -7.0),\n",
       " (('LS', '3series'), 1.2),\n",
       " (('RX', 'A8'), 2.0),\n",
       " (('LS', 'A6'), 2.3333333333333335),\n",
       " (('ES', 'A6'), 3.5),\n",
       " (('7series', 'Sclass'), -1.2222222222222223),\n",
       " (('A8', 'RX'), -10.0),\n",
       " (('Sclass', '7series'), 0.6875),\n",
       " (('XJ', '7series'), 1.3333333333333333),\n",
       " (('Sclass', 'LS'), -0.37096774193548387),\n",
       " (('Sclass', 'A6'), 1.6666666666666667),\n",
       " (('5series', 'A8'), -5.0),\n",
       " (('A6', 'XJ'), 1.0),\n",
       " (('RX', 'ES'), -1.3333333333333333),\n",
       " (('3series', 'RX'), -16.0),\n",
       " (('XJ', 'ES'), 0.0),\n",
       " (('LS', 'Sclass'), 0.3108108108108108),\n",
       " (('ES', 'A8'), 0.40000000000000002),\n",
       " (('5series', 'Sclass'), -5.0),\n",
       " (('ES', 'XJ'), 0.0),\n",
       " (('ES', '3series'), 2.5),\n",
       " (('LS', 'A8'), 0.35714285714285715),\n",
       " (('7series', 'LS'), -0.94999999999999996),\n",
       " (('Sclass', 'XJ'), 0.8571428571428571),\n",
       " (('RX', '3series'), 3.2000000000000002),\n",
       " (('3series', 'LS'), -3.0),\n",
       " (('7series', 'RX'), -14.0),\n",
       " (('RX', '7series'), 3.5),\n",
       " (('7series', '5series'), -2.5),\n",
       " (('A6', '5series'), -2.0),\n",
       " (('A8', '7series'), 0.27272727272727271),\n",
       " (('3series', '7series'), 1.0),\n",
       " (('Sclass', 'ES'), -0.92307692307692313),\n",
       " (('XJ', 'LS'), 0.44444444444444442),\n",
       " (('XJ', 'A8'), 1.2857142857142858),\n",
       " (('RX', 'A6'), 3.6666666666666665),\n",
       " (('ES', 'Sclass'), 0.8571428571428571),\n",
       " (('A6', 'Sclass'), -5.0)]"
      ]
     },
     "execution_count": 8,
     "metadata": {},
     "output_type": "execute_result"
    }
   ],
   "source": [
    "weight_dict={}\n",
    "for comb in list_of_edges:\n",
    "    if denominator_dict[comb]!=0:\n",
    "        value=numerator_dict[comb]/denominator_dict[comb]\n",
    "        weight_dict[comb]=value\n",
    "weight_dict.items()"
   ]
  },
  {
   "cell_type": "code",
   "execution_count": 9,
   "metadata": {
    "scrolled": true
   },
   "outputs": [
    {
     "data": {
      "text/plain": [
       "[('A6', '3series', 0.5),\n",
       " ('RX', '5series', 3.6000000000000001),\n",
       " ('A6', 'ES', -2.3333333333333335),\n",
       " ('A8', 'ES', -0.40000000000000002),\n",
       " ('LS', '5series', -0.40000000000000002),\n",
       " ('ES', 'LS', -2.1666666666666665),\n",
       " ('XJ', 'Sclass', -1.0),\n",
       " ('XJ', '5series', 2.0),\n",
       " ('Sclass', '3series', -1.0),\n",
       " ('3series', 'A8', -8.0),\n",
       " ('7series', 'A8', -0.42857142857142855),\n",
       " ('Sclass', 'A8', -0.75),\n",
       " ('A8', 'XJ', -3.0),\n",
       " ('A8', '5series', 1.6666666666666667),\n",
       " ('A8', 'LS', -0.40540540540540543),\n",
       " ('LS', '7series', 0.6785714285714286),\n",
       " ('7series', 'A6', 5.0),\n",
       " ('5series', 'LS', 0.40000000000000002),\n",
       " ('ES', 'RX', 0.66666666666666663),\n",
       " ('5series', '7series', 1.6666666666666667),\n",
       " ('7series', 'XJ', -2.6666666666666665),\n",
       " ('ES', '5series', 2.3333333333333335),\n",
       " ('LS', 'XJ', -0.5),\n",
       " ('Sclass', 'RX', -7.5),\n",
       " ('RX', 'Sclass', 2.7272727272727271),\n",
       " ('RX', 'XJ', 2.0),\n",
       " ('Sclass', '5series', 1.25),\n",
       " ('A8', 'Sclass', 0.66666666666666663),\n",
       " ('LS', 'ES', 1.3),\n",
       " ('3series', 'Sclass', 1.0),\n",
       " ('7series', 'ES', -0.80000000000000004),\n",
       " ('A8', '3series', 2.0),\n",
       " ('3series', 'ES', -20.0),\n",
       " ('7series', '3series', -0.5),\n",
       " ('LS', 'RX', 1.8),\n",
       " ('A8', 'A6', -1.0),\n",
       " ('ES', '7series', 0.80000000000000004),\n",
       " ('3series', 'A6', -1.0),\n",
       " ('A6', 'A8', 1.3333333333333333),\n",
       " ('RX', 'LS', -1.2857142857142858),\n",
       " ('A6', 'LS', -3.0),\n",
       " ('XJ', '3series', 3.0),\n",
       " ('5series', 'A6', 2.0),\n",
       " ('5series', 'ES', -7.0),\n",
       " ('LS', '3series', 1.2),\n",
       " ('RX', 'A8', 2.0),\n",
       " ('LS', 'A6', 2.3333333333333335),\n",
       " ('ES', 'A6', 3.5),\n",
       " ('7series', 'Sclass', -1.2222222222222223),\n",
       " ('A8', 'RX', -10.0),\n",
       " ('Sclass', '7series', 0.6875),\n",
       " ('XJ', '7series', 1.3333333333333333),\n",
       " ('Sclass', 'LS', -0.37096774193548387),\n",
       " ('Sclass', 'A6', 1.6666666666666667),\n",
       " ('5series', 'A8', -5.0),\n",
       " ('A6', 'XJ', 1.0),\n",
       " ('RX', 'ES', -1.3333333333333333),\n",
       " ('3series', 'RX', -16.0),\n",
       " ('XJ', 'ES', 0.0),\n",
       " ('LS', 'Sclass', 0.3108108108108108),\n",
       " ('ES', 'A8', 0.40000000000000002),\n",
       " ('5series', 'Sclass', -5.0),\n",
       " ('ES', 'XJ', 0.0),\n",
       " ('ES', '3series', 2.5),\n",
       " ('LS', 'A8', 0.35714285714285715),\n",
       " ('7series', 'LS', -0.94999999999999996),\n",
       " ('Sclass', 'XJ', 0.8571428571428571),\n",
       " ('RX', '3series', 3.2000000000000002),\n",
       " ('3series', 'LS', -3.0),\n",
       " ('7series', 'RX', -14.0),\n",
       " ('RX', '7series', 3.5),\n",
       " ('7series', '5series', -2.5),\n",
       " ('A6', '5series', -2.0),\n",
       " ('A8', '7series', 0.27272727272727271),\n",
       " ('3series', '7series', 1.0),\n",
       " ('Sclass', 'ES', -0.92307692307692313),\n",
       " ('XJ', 'LS', 0.44444444444444442),\n",
       " ('XJ', 'A8', 1.2857142857142858),\n",
       " ('RX', 'A6', 3.6666666666666665),\n",
       " ('ES', 'Sclass', 0.8571428571428571),\n",
       " ('A6', 'Sclass', -5.0)]"
      ]
     },
     "execution_count": 9,
     "metadata": {},
     "output_type": "execute_result"
    }
   ],
   "source": [
    "total_pretty_list=[]\n",
    "for item in weight_dict.items():\n",
    "    pretty_list=[]\n",
    "    pretty_list.append(item[0][0])\n",
    "    pretty_list.append(item[0][1])\n",
    "    pretty_list.append(item[1])\n",
    "    total_pretty_list.append(tuple(pretty_list))\n",
    "total_pretty_list[0]  \n",
    "total_pretty_list"
   ]
  },
  {
   "cell_type": "code",
   "execution_count": 10,
   "metadata": {},
   "outputs": [
    {
     "name": "stdout",
     "output_type": "stream",
     "text": [
      "[('XJ', '7series'), ('XJ', 'Sclass'), ('XJ', 'LS'), ('XJ', 'A8'), ('XJ', '3series'), ('XJ', 'ES'), ('XJ', '5series'), ('Sclass', 'XJ'), ('Sclass', '7series'), ('Sclass', 'RX'), ('Sclass', '5series'), ('Sclass', 'A6'), ('Sclass', 'A8'), ('Sclass', '3series'), ('Sclass', 'ES'), ('Sclass', 'LS'), ('7series', 'XJ'), ('7series', 'Sclass'), ('7series', 'RX'), ('7series', 'LS'), ('7series', 'A6'), ('7series', 'A8'), ('7series', '3series'), ('7series', 'ES'), ('7series', '5series'), ('RX', 'XJ'), ('RX', 'Sclass'), ('RX', '7series'), ('RX', 'LS'), ('RX', 'A6'), ('RX', 'A8'), ('RX', '3series'), ('RX', 'ES'), ('RX', '5series'), ('5series', 'Sclass'), ('5series', '7series'), ('5series', 'LS'), ('5series', 'A6'), ('5series', 'A8'), ('5series', 'ES'), ('A6', 'XJ'), ('A6', 'Sclass'), ('A6', 'LS'), ('A6', 'A8'), ('A6', '3series'), ('A6', 'ES'), ('A6', '5series'), ('A8', 'XJ'), ('A8', 'Sclass'), ('A8', '7series'), ('A8', 'RX'), ('A8', '5series'), ('A8', 'A6'), ('A8', '3series'), ('A8', 'ES'), ('A8', 'LS'), ('3series', 'Sclass'), ('3series', '7series'), ('3series', 'RX'), ('3series', 'LS'), ('3series', 'A6'), ('3series', 'A8'), ('3series', 'ES'), ('ES', 'XJ'), ('ES', '7series'), ('ES', 'Sclass'), ('ES', 'RX'), ('ES', 'LS'), ('ES', 'A6'), ('ES', 'A8'), ('ES', '3series'), ('ES', '5series'), ('LS', 'XJ'), ('LS', '7series'), ('LS', 'Sclass'), ('LS', 'RX'), ('LS', '5series'), ('LS', 'A6'), ('LS', 'A8'), ('LS', '3series'), ('LS', 'ES')]\n"
     ]
    }
   ],
   "source": [
    "g.add_weighted_edges_from(total_pretty_list)\n",
    "print g.edges()"
   ]
  },
  {
   "cell_type": "code",
   "execution_count": 11,
   "metadata": {
    "collapsed": true
   },
   "outputs": [],
   "source": [
    "import pylab as plt\n",
    "g.add_nodes_from(sent_data.columns.values)"
   ]
  },
  {
   "cell_type": "code",
   "execution_count": 12,
   "metadata": {
    "collapsed": true
   },
   "outputs": [],
   "source": [
    "pos=nx.spring_layout(g, scale=1.0, k=.95)"
   ]
  },
  {
   "cell_type": "code",
   "execution_count": 13,
   "metadata": {
    "scrolled": true
   },
   "outputs": [
    {
     "data": {
      "image/png": "[encoded data removed]",
      "text/plain": [
       "<matplotlib.figure.Figure at 0x1195360d0>"
      ]
     },
     "metadata": {},
     "output_type": "display_data"
    }
   ],
   "source": [
    "nx.draw_networkx_nodes(g, pos, node_size=1200)\n",
    "nx.draw_networkx_edges(g, pos, edgelist=total_pretty_list, width=.5)\n",
    "nx.draw_networkx_labels(g,pos, font_size=10, font_family='sans-serif')\n",
    "plt.axis('off')\n",
    "plt.show()\n",
    "plt.savefig('graph.png')"
   ]
  },
  {
   "cell_type": "code",
   "execution_count": null,
   "metadata": {
    "collapsed": true
   },
   "outputs": [],
   "source": []
  },
  {
   "cell_type": "code",
   "execution_count": null,
   "metadata": {
    "collapsed": true
   },
   "outputs": [],
   "source": []
  },
  {
   "cell_type": "markdown",
   "metadata": {},
   "source": [
    "**Task B. Calculate both unweighted and weighted PageRank scores for each car. What are the correlations between these metrics and sales figures shown below? What additional information do weighted PageRanks capture? Write a script to calculate weighted and unweighted PageRanks.**  \n"
   ]
  },
  {
   "cell_type": "code",
   "execution_count": 48,
   "metadata": {},
   "outputs": [
    {
     "data": {
      "text/plain": [
       "{'3series': 220000,\n",
       " '5series': 60000,\n",
       " '7series': 14000,\n",
       " 'A6': 20000,\n",
       " 'A8': 12000,\n",
       " 'ES': 135000,\n",
       " 'LS': 30000,\n",
       " 'RX': 120000,\n",
       " 'Sclass': 25000,\n",
       " 'XJ': 6600}"
      ]
     },
     "execution_count": 48,
     "metadata": {},
     "output_type": "execute_result"
    }
   ],
   "source": [
    "#just importing sales data from the word doc\n",
    "Model=['A6','A8','3series','5series','7series','XJ',\n",
    "            'ES','LS','RX','Sclass']\n",
    "Num_Sold=[20000,12000,220000,60000,14000,6600,135000,30000,120000,25000]\n",
    "sales=pd.DataFrame(columns=['Model','Num_Sold'])\n",
    "sales['Model']=Model\n",
    "sales['Num_Sold']=Num_Sold\n",
    "sales[:3]\n",
    "sales_dict=sales.set_index('Model')['Num_Sold'].to_dict()\n",
    "sales_dict"
   ]
  },
  {
   "cell_type": "code",
   "execution_count": 18,
   "metadata": {},
   "outputs": [
    {
     "data": {
      "text/plain": [
       "{'3series': 0.10387874700957495,\n",
       " '5series': 0.087476603069380474,\n",
       " '7series': 0.055881954501447152,\n",
       " 'A6': 0.063648391133020052,\n",
       " 'A8': 0.10609603370039858,\n",
       " 'ES': 0.10868458938990472,\n",
       " 'LS': 0.0039979969075507257,\n",
       " 'RX': 0.30501267768825674,\n",
       " 'Sclass': 0.10962645922413546,\n",
       " 'XJ': 0.055696547376331118}"
      ]
     },
     "execution_count": 18,
     "metadata": {},
     "output_type": "execute_result"
    }
   ],
   "source": [
    "#network x good for page rank\n",
    "pr_weight = nx.pagerank(g, alpha=0.9)\n",
    "pr_weight"
   ]
  },
  {
   "cell_type": "code",
   "execution_count": 20,
   "metadata": {},
   "outputs": [
    {
     "data": {
      "text/plain": [
       "{'3series': 0.09605322653686571,\n",
       " '5series': 0.09605322653686571,\n",
       " '7series': 0.10006027825316345,\n",
       " 'A6': 0.0991236650358694,\n",
       " 'A8': 0.11164619311647964,\n",
       " 'ES': 0.11164619311647964,\n",
       " 'LS': 0.11164619311647964,\n",
       " 'RX': 0.07701430599308111,\n",
       " 'Sclass': 0.11164619311647964,\n",
       " 'XJ': 0.08511052517823599}"
      ]
     },
     "execution_count": 20,
     "metadata": {},
     "output_type": "execute_result"
    }
   ],
   "source": [
    "pr_unweight = nx.pagerank(g, alpha=0.9, weight='None')\n",
    "pr_unweight"
   ]
  },
  {
   "cell_type": "code",
   "execution_count": 57,
   "metadata": {},
   "outputs": [
    {
     "data": {
      "text/plain": [
       "0.42545583899733508"
      ]
     },
     "execution_count": 57,
     "metadata": {},
     "output_type": "execute_result"
    }
   ],
   "source": [
    "#correlation with sales figures\n",
    "\n",
    "keys = list(sales_dict.viewkeys() | pr_weight.viewkeys())\n",
    "import numpy\n",
    "numpy.corrcoef(\n",
    "    [sales_dict.get(x, 0) for x in keys],\n",
    "    [pr_weight.get(x, 0) for x in keys])[0, 1]\n",
    "\n",
    "# import numpy as np\n",
    "# np.corrcoef(pr_weight.values(),sales_dict.values())\n",
    "# from scipy.stats.stats import pearsonr  \n",
    "# print pearsonr(pr_weight.values(),sales_dict.values()) #corr coef, 2 tailed pvalue\n",
    "#sales_dict.values()"
   ]
  },
  {
   "cell_type": "code",
   "execution_count": 59,
   "metadata": {},
   "outputs": [
    {
     "data": {
      "text/plain": [
       "-0.20910700749732153"
      ]
     },
     "execution_count": 59,
     "metadata": {},
     "output_type": "execute_result"
    }
   ],
   "source": [
    "keys = list(sales_dict.viewkeys() | pr_unweight.viewkeys())\n",
    "import numpy\n",
    "numpy.corrcoef(\n",
    "    [sales_dict.get(x, 0) for x in keys],\n",
    "    [pr_unweight.get(x, 0) for x in keys])[0, 1]"
   ]
  },
  {
   "cell_type": "markdown",
   "metadata": {},
   "source": [
    "**Task C. The above sentiment scores above were obtained by manually reading each post.  The file “Edmunds Reviews.xlsx” provide a bunch of actual messages (combine the worksheets). Your task is to automate the sentiment extraction from each post.  As in tasks A and B, focus on the same 10 models (note that other models may also be mentioned, but that they should be ignored).     **\n",
    "\n",
    "**Write one or more python or R script(s) to generate sentiment scores for the 10 models just as in the sentiment scores worksheet.  This will be an unsupervised approach. Your script should extract parts of a post that pertain to a car model, and obtain its sentiment score. **\n",
    "\n",
    "**Generate sentiment scores with your script(s), and find weighted PageRank of each of the 10 cars and correlate with the sales figures above. How does the correlation of this automated approach compare with that of manual scoring in task B?\n",
    "**"
   ]
  },
  {
   "cell_type": "code",
   "execution_count": null,
   "metadata": {
    "collapsed": true
   },
   "outputs": [],
   "source": []
  },
  {
   "cell_type": "code",
   "execution_count": null,
   "metadata": {
    "collapsed": true
   },
   "outputs": [],
   "source": []
  },
  {
   "cell_type": "code",
   "execution_count": null,
   "metadata": {
    "collapsed": true
   },
   "outputs": [],
   "source": []
  }
 ],
 "metadata": {
  "kernelspec": {
   "display_name": "Python 2",
   "language": "python",
   "name": "python2"
  },
  "language_info": {
   "codemirror_mode": {
    "name": "ipython",
    "version": 2
   },
   "file_extension": ".py",
   "mimetype": "text/x-python",
   "name": "python",
   "nbconvert_exporter": "python",
   "pygments_lexer": "ipython2",
   "version": "2.7.13"
  }
 },
 "nbformat": 4,
 "nbformat_minor": 2
}
